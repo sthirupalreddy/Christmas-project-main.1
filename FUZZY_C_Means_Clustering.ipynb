{
  "cells": [
    {
      "cell_type": "markdown",
      "metadata": {
        "id": "view-in-github",
        "colab_type": "text"
      },
      "source": [
        "<a href=\"https://colab.research.google.com/github/sthirupalreddy/Christmas-project-main.1/blob/main/FUZZY_C_Means_Clustering.ipynb\" target=\"_parent\"><img src=\"https://colab.research.google.com/assets/colab-badge.svg\" alt=\"Open In Colab\"/></a>"
      ]
    },
    {
      "cell_type": "code",
      "source": [
        "pip install scikit-fuzzy\n"
      ],
      "metadata": {
        "id": "a7X21Dj7ulJa",
        "outputId": "a84b4b19-e160-4b20-a96b-b5ee57a0b2d7",
        "colab": {
          "base_uri": "https://localhost:8080/"
        }
      },
      "execution_count": null,
      "outputs": [
        {
          "output_type": "stream",
          "name": "stdout",
          "text": [
            "Requirement already satisfied: scikit-fuzzy in /usr/local/lib/python3.11/dist-packages (0.5.0)\n"
          ]
        }
      ]
    },
    {
      "cell_type": "code",
      "source": [
        "from fcmeans import FCM # Now import"
      ],
      "metadata": {
        "id": "MuIYuUjmv54K"
      },
      "execution_count": null,
      "outputs": []
    },
    {
      "cell_type": "code",
      "source": [
        "import pandas as pd\n",
        "from sklearn.feature_selection import SelectKBest, f_classif\n",
        "from sklearn.impute import SimpleImputer\n",
        "from sklearn.preprocessing import KBinsDiscretizer\n",
        "from scipy import stats\n",
        "import numpy as np\n",
        "from sklearn.cluster import KMeans\n",
        "from sklearn.preprocessing import StandardScaler\n",
        "from sklearn.metrics import silhouette_score\n",
        "import matplotlib.pyplot as plt\n"
      ],
      "metadata": {
        "id": "9t8uo_P2u4l6"
      },
      "execution_count": null,
      "outputs": []
    },
    {
      "cell_type": "code",
      "source": [
        "# Load the dataset\n",
        "data = pd.read_csv(\"/content/IRIS (2).csv\")\n"
      ],
      "metadata": {
        "id": "pQJ7jBVOvBU6"
      },
      "execution_count": null,
      "outputs": []
    },
    {
      "cell_type": "code",
      "source": [
        "# Select features for clustering (numerical features)\n",
        "features = ['sepal_length', 'sepal_width', 'petal_length', 'petal_width']\n",
        "X = data[features]"
      ],
      "metadata": {
        "id": "auB_LRDMvMEB"
      },
      "execution_count": null,
      "outputs": []
    },
    {
      "cell_type": "code",
      "source": [
        "# Scale the data\n",
        "scaler = StandardScaler()\n",
        "X_scaled = scaler.fit_transform(X)\n"
      ],
      "metadata": {
        "id": "muduXWwSvW-6"
      },
      "execution_count": null,
      "outputs": []
    },
    {
      "cell_type": "code",
      "source": [
        "# Determine optimal k using silhouette score (for comparison with KMeans)\n",
        "k_values = range(2, 10)  # Test k values from 2 to 9\n",
        "silhouette_scores = []\n"
      ],
      "metadata": {
        "id": "LMP5kDrPva4y"
      },
      "execution_count": null,
      "outputs": []
    },
    {
      "cell_type": "code",
      "source": [
        "for k in k_values:\n",
        "    kmeans = KMeans(n_clusters=k, random_state=42)\n",
        "    kmeans.fit(X_scaled)\n",
        "    score = silhouette_score(X_scaled, kmeans.labels_)\n",
        "    silhouette_scores.append(score)\n"
      ],
      "metadata": {
        "id": "TTdRcKpiveEZ"
      },
      "execution_count": null,
      "outputs": []
    },
    {
      "cell_type": "code",
      "source": [
        "optimal_k = k_values[silhouette_scores.index(max(silhouette_scores))]\n",
        "print(f\"Optimal number of clusters (based on silhouette score for KMeans): {optimal_k}\")\n"
      ],
      "metadata": {
        "id": "sBxUeTOivipZ",
        "outputId": "fad1c28d-e446-40c7-ed19-159c201453f4",
        "colab": {
          "base_uri": "https://localhost:8080/"
        }
      },
      "execution_count": null,
      "outputs": [
        {
          "output_type": "stream",
          "name": "stdout",
          "text": [
            "Optimal number of clusters (based on silhouette score for KMeans): 2\n"
          ]
        }
      ]
    },
    {
      "cell_type": "code",
      "source": [
        "# Fuzzy C-Means Clustering\n",
        "fcm = FCM(n_clusters=optimal_k) # Using the same optimal k found for KMeans\n",
        "fcm.fit(X_scaled)\n"
      ],
      "metadata": {
        "id": "Z3pJy_jhv71p"
      },
      "execution_count": null,
      "outputs": []
    },
    {
      "cell_type": "code",
      "source": [
        "# Get cluster labels\n",
        "data['cluster_fcm'] = fcm.predict(X_scaled)\n"
      ],
      "metadata": {
        "id": "GpdkoFfGwA6J"
      },
      "execution_count": null,
      "outputs": []
    },
    {
      "cell_type": "code",
      "source": [
        "# Plot the clusters (Fuzzy C-Means)\n",
        "plt.figure(figsize=(8, 6))\n",
        "for cluster in range(optimal_k):\n",
        "    cluster_data = data[data['cluster_fcm'] == cluster]\n",
        "    plt.scatter(cluster_data['sepal_length'], cluster_data['sepal_width'], label=f'Cluster {cluster}')\n",
        "    plt.scatter(fcm.centers[:, 0], fcm.centers[:, 1], s=200, c='red', marker='*', label='Centroids') # Use fcm.centers for centroids\n",
        "plt.xlabel('Sepal Length')\n",
        "plt.ylabel('Sepal Width')\n",
        "plt.title('Fuzzy C-Means Clustering')\n",
        "plt.legend()\n",
        "plt.show()\n",
        "\n"
      ],
      "metadata": {
        "id": "1ubFqRXcwDcx",
        "outputId": "8f354701-7486-4eb1-ec7d-b281fb0dbebf",
        "colab": {
          "base_uri": "https://localhost:8080/",
          "height": 564
        }
      },
      "execution_count": null,
      "outputs": [
        {
          "output_type": "display_data",
          "data": {
            "text/plain": [
              "<Figure size 800x600 with 1 Axes>"
            ],
            "image/png": "[encoded data removed]"
          },
          "metadata": {}
        }
      ]
    }
  ],
  "metadata": {
    "colab": {
      "provenance": [],
      "include_colab_link": true
    },
    "kernelspec": {
      "display_name": "Python 3",
      "name": "python3"
    }
  },
  "nbformat": 4,
  "nbformat_minor": 0
}